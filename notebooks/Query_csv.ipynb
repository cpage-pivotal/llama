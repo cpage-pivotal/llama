{
 "cells": [
  {
   "cell_type": "markdown",
   "source": [
    "# Set credentials\n",
    "\n",
    "Enter an OpenAI key for running queries"
   ],
   "metadata": {
    "collapsed": false
   }
  },
  {
   "cell_type": "code",
   "execution_count": null,
   "outputs": [],
   "source": [
    "import os\n",
    "import nest_asyncio\n",
    "nest_asyncio.apply()\n",
    "\n",
    "os.environ[\"OPENAI_API_KEY\"] = 'YOUR-OPENAI-KEY'"
   ],
   "metadata": {
    "collapsed": false
   }
  },
  {
   "cell_type": "markdown",
   "source": [
    "# Small dataset example\n",
    "\n",
    "First, we will create a very small dataset of city populations, instantiate a Pandas DataFrame to encapsulate that dataset, and tell LlamaIndex to index the dataframe for OpenAI queries"
   ],
   "metadata": {
    "collapsed": false
   }
  },
  {
   "cell_type": "code",
   "execution_count": null,
   "outputs": [],
   "source": [
    "from IPython.display import Markdown, display\n",
    "from llama_index.indices.struct_store import GPTPandasIndex\n",
    "import pandas as pd\n",
    "\n",
    "df = pd.DataFrame(\n",
    "    {\n",
    "        \"city\": [\"Toronto\", \"Tokyo\", \"Berlin\"],\n",
    "        \"population\": [2930000, 13960000, 3645000]\n",
    "    }\n",
    ")\n",
    "\n",
    "index = GPTPandasIndex(df=df)\n"
   ],
   "metadata": {
    "collapsed": false
   }
  },
  {
   "cell_type": "markdown",
   "source": [
    "# Query the dataset\n",
    "\n",
    "Even this tiny index provides OpenAI enough context to run a natural language query against the data! Let's find out what the largest city is."
   ],
   "metadata": {
    "collapsed": false
   }
  },
  {
   "cell_type": "code",
   "execution_count": null,
   "outputs": [],
   "source": [
    "query_engine = index.as_query_engine(\n",
    "    verbose=True\n",
    ")\n",
    "response = query_engine.query(\n",
    "    \"What is the city with the highest population?\",\n",
    ")\n",
    "\n",
    "display(Markdown(f\"<b>{response}</b>\"))"
   ],
   "metadata": {
    "collapsed": false
   }
  },
  {
   "cell_type": "markdown",
   "source": [
    "# Ingest CSV File\n",
    "\n",
    "Now we'll use a somewhat larger dataset. We will read in a CSV file of about 1,000 Titanic passengers as a Pandas dataframe. Then we can index it as before."
   ],
   "metadata": {
    "collapsed": false
   }
  },
  {
   "cell_type": "code",
   "execution_count": null,
   "outputs": [],
   "source": [
    "df = pd.read_csv(\"../data/titanic_train.csv\")\n",
    "index = GPTPandasIndex(df=df)\n"
   ],
   "metadata": {
    "collapsed": false
   }
  },
  {
   "cell_type": "markdown",
   "source": [
    "# Query the dataset\n",
    "\n",
    "Again, we can query the dataset as before. Your data scientists can perform more advanced tuning and transformations on the dataset to enable more complex queries."
   ],
   "metadata": {
    "collapsed": false
   }
  },
  {
   "cell_type": "code",
   "execution_count": null,
   "outputs": [],
   "source": [
    "query_engine = index.as_query_engine(\n",
    "    verbose=True\n",
    ")\n",
    "response = query_engine.query(\n",
    "    \"What is the correlation between survival and age?\",\n",
    ")\n",
    "\n",
    "display(Markdown(f\"<b>{response}</b>\"))"
   ],
   "metadata": {
    "collapsed": false
   }
  }
 ],
 "metadata": {
  "kernelspec": {
   "display_name": "Python 3",
   "language": "python",
   "name": "python3"
  },
  "language_info": {
   "codemirror_mode": {
    "name": "ipython",
    "version": 2
   },
   "file_extension": ".py",
   "mimetype": "text/x-python",
   "name": "python",
   "nbconvert_exporter": "python",
   "pygments_lexer": "ipython2",
   "version": "2.7.6"
  }
 },
 "nbformat": 4,
 "nbformat_minor": 0
}
