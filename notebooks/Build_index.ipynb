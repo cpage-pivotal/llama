{
 "cells": [
  {
   "cell_type": "markdown",
   "source": [
    "# Set credentials\n",
    "\n",
    "Enter an OpenAI key for running queries, and a Github token for reading from Github repos.\n",
    "\n",
    "Point to the Github repo where we will be ingesting data for indexing"
   ],
   "metadata": {
    "collapsed": false
   }
  },
  {
   "cell_type": "code",
   "execution_count": 3,
   "outputs": [],
   "source": [
    "import os\n",
    "import nest_asyncio\n",
    "nest_asyncio.apply()\n",
    "\n",
    "os.environ[\"OPENAI_API_KEY\"] = 'YOUR-OPENAI-KEY'\n",
    "os.environ[\"GITHUB_TOKEN\"] = 'YOUR-GITHUB-TOKEN'\n",
    "\n",
    "github_repo_owner = 'cpage-pivotal'\n",
    "github_repo_name = 'ai-data'\n",
    "github_branch = 'essay'"
   ],
   "metadata": {
    "collapsed": false,
    "ExecuteTime": {
     "end_time": "2023-05-23T15:35:23.988562Z",
     "start_time": "2023-05-23T15:35:23.978552Z"
    }
   }
  },
  {
   "cell_type": "markdown",
   "source": [
    "# Index the data\n",
    "\n",
    "We will create a vector store index across the entire dataset."
   ],
   "metadata": {
    "collapsed": false
   }
  },
  {
   "cell_type": "code",
   "execution_count": null,
   "outputs": [],
   "source": [
    "from llama_index import GPTVectorStoreIndex, GithubRepositoryReader\n",
    "documents = GithubRepositoryReader(\n",
    "    owner=github_repo_owner,\n",
    "    repo=github_repo_name,\n",
    "    use_parser=False,\n",
    "    verbose=False,\n",
    ").load_data(branch=github_branch)\n"
   ],
   "metadata": {
    "collapsed": false
   }
  },
  {
   "cell_type": "markdown",
   "source": [
    "# Store Indexes\n",
    "\n",
    "We will persist the indices where they can be picked up by third-party applications for querying."
   ],
   "metadata": {
    "collapsed": false
   }
  },
  {
   "cell_type": "code",
   "execution_count": null,
   "outputs": [],
   "source": [
    "from llama_index.node_parser import SimpleNodeParser\n",
    "from llama_index.storage.storage_context import StorageContext\n",
    "from llama_index.vector_stores import RedisVectorStore\n",
    "\n",
    "nodes = SimpleNodeParser().get_nodes_from_documents(documents)\n",
    "\n",
    "vector_store = RedisVectorStore(\n",
    "    index_name=\"pg_essays\",\n",
    "    index_prefix=\"llama\",\n",
    "    redis_url=\"redis://localhost:6379\",\n",
    "    overwrite=True\n",
    ")\n",
    "# from llama_index.storage.docstore import SimpleDocumentStore\n",
    "# docstore = SimpleDocumentStore()\n",
    "# docstore.add_documents(nodes)\n",
    "\n",
    "storage_context = StorageContext.from_defaults(vector_store=vector_store)\n",
    "index = GPTVectorStoreIndex.from_documents(documents,storage_context=storage_context)\n",
    "# storage_context.persist()"
   ],
   "metadata": {
    "collapsed": false
   }
  },
  {
   "cell_type": "markdown",
   "source": [
    "# Run Queries\n",
    "\n",
    "Run a completion query on the data"
   ],
   "metadata": {
    "collapsed": false
   }
  },
  {
   "cell_type": "code",
   "execution_count": null,
   "outputs": [],
   "source": [
    "query_engine = index.as_query_engine()\n",
    "query_string = \"How did the author start Y Combinator?\"\n",
    "response = query_engine.query(query_string)\n",
    "print(response)"
   ],
   "metadata": {
    "collapsed": false
   }
  },
  {
   "cell_type": "code",
   "execution_count": null,
   "outputs": [],
   "source": [],
   "metadata": {
    "collapsed": false
   }
  }
 ],
 "metadata": {
  "kernelspec": {
   "display_name": "Python 3",
   "language": "python",
   "name": "python3"
  },
  "language_info": {
   "codemirror_mode": {
    "name": "ipython",
    "version": 2
   },
   "file_extension": ".py",
   "mimetype": "text/x-python",
   "name": "python",
   "nbconvert_exporter": "python",
   "pygments_lexer": "ipython2",
   "version": "2.7.6"
  }
 },
 "nbformat": 4,
 "nbformat_minor": 0
}
